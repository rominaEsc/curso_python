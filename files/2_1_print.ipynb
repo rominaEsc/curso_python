{
 "cells": [
  {
   "cell_type": "markdown",
   "metadata": {},
   "source": [
    "## La función Print() en Python\n",
    "\n",
    "Cuando trabajemos en un entorno interactivo, como en consola Python, para que Python muestre el valor de una variable basta con escribir su nombre."
   ]
  },
  {
   "cell_type": "code",
   "execution_count": 20,
   "metadata": {},
   "outputs": [
    {
     "data": {
      "text/plain": [
       "2"
      ]
     },
     "execution_count": 20,
     "metadata": {},
     "output_type": "execute_result"
    }
   ],
   "source": [
    "a = 2\n",
    "a"
   ]
  },
  {
   "cell_type": "code",
   "execution_count": 21,
   "metadata": {},
   "outputs": [
    {
     "data": {
      "text/plain": [
       "'kike'"
      ]
     },
     "execution_count": 21,
     "metadata": {},
     "output_type": "execute_result"
    }
   ],
   "source": [
    "nombre =  \"kike\"\n",
    "nombre"
   ]
  },
  {
   "cell_type": "markdown",
   "metadata": {},
   "source": [
    "Pero cuando estemos desarrollando programas una de las acciones más repetidas y de las más importantes, es la posibilidad de presentar los resultados de nuestros programas en pantalla, para realizar esta tarea en Python utilizamos la función *print()*.\n",
    "\n",
    "En Python 3 *print()* es una función, por lo que el contenido siempre debe estar entre paréntesis.\n"
   ]
  },
  {
   "cell_type": "markdown",
   "metadata": {},
   "source": [
    "### Print() -> Texto\n",
    "\n",
    "Una de las acciones básicas e imprescindibles que tiene que realizar un programa es la de mostrar información por pantalla: texto, números, resultados, etc.\n",
    "\n",
    "Para mostrar texto en Python utilizamos la función print(), cuya sintaxis es:"
   ]
  },
  {
   "cell_type": "code",
   "execution_count": 22,
   "metadata": {},
   "outputs": [
    {
     "name": "stdout",
     "output_type": "stream",
     "text": [
      "texto\n"
     ]
    }
   ],
   "source": [
    "print('texto')"
   ]
  },
  {
   "cell_type": "code",
   "execution_count": 23,
   "metadata": {},
   "outputs": [
    {
     "name": "stdout",
     "output_type": "stream",
     "text": [
      "Esto es una cadena\n"
     ]
    }
   ],
   "source": [
    "cadena = \"Esto es una cadena\"\n",
    "print(cadena)"
   ]
  },
  {
   "cell_type": "markdown",
   "metadata": {},
   "source": [
    "Debemos tener en cuenta una regla:\n",
    "\n",
    "*Cuando queremos mostrar texto, el interior de los paréntesis de print va con comillas*:\n",
    "\n",
    "- *print('texto')*\n"
   ]
  },
  {
   "cell_type": "markdown",
   "metadata": {},
   "source": [
    "\n",
    "## Print() -> Números\n",
    "Si, en lugar de texto, lo que queremos mostrar son números, o el resultado de una operación, debemos tener en cuenta esta regla:\n",
    "\n",
    "*Cuando quieres mostrar números u operaciones, el interior del paréntesis va sin comillas*\n"
   ]
  },
  {
   "cell_type": "code",
   "execution_count": 24,
   "metadata": {},
   "outputs": [
    {
     "name": "stdout",
     "output_type": "stream",
     "text": [
      "3\n"
     ]
    }
   ],
   "source": [
    "print(1 + 2)"
   ]
  },
  {
   "cell_type": "code",
   "execution_count": 25,
   "metadata": {},
   "outputs": [
    {
     "name": "stdout",
     "output_type": "stream",
     "text": [
      "20\n"
     ]
    }
   ],
   "source": [
    "a = 4 * 5\n",
    "print(a)"
   ]
  },
  {
   "cell_type": "markdown",
   "metadata": {},
   "source": [
    "### Print() -> Números y Textos\n",
    "La función print() permite incluir variables o expresiones como argumento, lo que nos permite combinar texto y variables:"
   ]
  },
  {
   "cell_type": "code",
   "execution_count": 26,
   "metadata": {},
   "outputs": [
    {
     "name": "stdout",
     "output_type": "stream",
     "text": [
      "Me llamo Alicia y tengo 35 años.\n"
     ]
    }
   ],
   "source": [
    "nombre = \"Alicia\"\n",
    "edad = 35\n",
    "print(\"Me llamo\", nombre, \"y tengo\", edad, \"años.\")"
   ]
  },
  {
   "cell_type": "markdown",
   "metadata": {},
   "source": [
    "Para combinar texto con operaciones, debemos recordar lo mencionado anteriormente:\n",
    "\n",
    "*El texto lleva comillas, los números y variables no.*"
   ]
  },
  {
   "cell_type": "markdown",
   "metadata": {},
   "source": [
    "### Cadenas \"f\"\n",
    "\n",
    "A partir de la versión 3.6 de Python, se añadió (PEP 498), una nueva notación para cadenas llamada cadenas \"f\", que hace más sencillo introducir variables y expresiones en las cadenas. \n",
    "\n",
    "Una cadena \"f\" contiene variables y expresiones entre llaves \"{}\" que se sustituyen directamente por su valor. \n",
    "\n",
    "Las cadenas \"f\" se reconocen porque comienzan por una letra f antes de las comillas de apertura."
   ]
  },
  {
   "cell_type": "code",
   "execution_count": 27,
   "metadata": {},
   "outputs": [
    {
     "name": "stdout",
     "output_type": "stream",
     "text": [
      "Me llamo Alicia y tengo 35 años.\n"
     ]
    }
   ],
   "source": [
    "nombre = \"Alicia\"\n",
    "edad = 35\n",
    "print(f\"Me llamo {nombre} y tengo {edad} años.\")"
   ]
  },
  {
   "cell_type": "markdown",
   "metadata": {},
   "source": [
    "Bibliografía: \n",
    "* https://www.adrformacion.com/knowledge/programacion/2___print__.html"
   ]
  }
 ],
 "metadata": {
  "kernelspec": {
   "display_name": "Python 3",
   "language": "python",
   "name": "python3"
  },
  "language_info": {
   "codemirror_mode": {
    "name": "ipython",
    "version": 3
   },
   "file_extension": ".py",
   "mimetype": "text/x-python",
   "name": "python",
   "nbconvert_exporter": "python",
   "pygments_lexer": "ipython3",
   "version": "3.11.0"
  }
 },
 "nbformat": 4,
 "nbformat_minor": 2
}
